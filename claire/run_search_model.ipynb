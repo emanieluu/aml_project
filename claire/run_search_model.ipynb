{
 "cells": [
  {
   "cell_type": "code",
   "execution_count": null,
   "metadata": {},
   "outputs": [],
   "source": [
    "! pip install hyperopt\n",
    "! pip install scikit-learn-intelex"
   ]
  },
  {
   "cell_type": "code",
   "execution_count": 1,
   "metadata": {},
   "outputs": [
    {
     "name": "stderr",
     "output_type": "stream",
     "text": [
      "Intel(R) Extension for Scikit-learn* enabled (https://github.com/intel/scikit-learn-intelex)\n"
     ]
    },
    {
     "name": "stdout",
     "output_type": "stream",
     "text": [
      "Params testing:                                        \n",
      "{'feature_extractor': {'n_features_to_select': 75, 'step': 10, 'type': 'RFE'}, 'max_depth': 10, 'min_samples_leaf': 2, 'min_samples_split': 17, 'n_estimators': 100, 'preprocessor': 'StandardScaler'}\n",
      "  0%|          | 0/200 [00:00<?, ?trial/s, best loss=?]"
     ]
    }
   ],
   "source": [
    "%run search_model.py"
   ]
  }
 ],
 "metadata": {
  "kernelspec": {
   "display_name": "base",
   "language": "python",
   "name": "python3"
  },
  "language_info": {
   "codemirror_mode": {
    "name": "ipython",
    "version": 3
   },
   "file_extension": ".py",
   "mimetype": "text/x-python",
   "name": "python",
   "nbconvert_exporter": "python",
   "pygments_lexer": "ipython3",
   "version": "3.10.13"
  }
 },
 "nbformat": 4,
 "nbformat_minor": 2
}
