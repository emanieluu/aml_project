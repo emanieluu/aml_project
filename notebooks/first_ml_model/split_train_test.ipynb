{
 "cells": [
  {
   "cell_type": "code",
   "execution_count": 2,
   "metadata": {},
   "outputs": [],
   "source": [
    "import pandas as pd\n",
    "from sklearn.model_selection import train_test_split"
   ]
  },
  {
   "cell_type": "code",
   "execution_count": 4,
   "metadata": {},
   "outputs": [],
   "source": [
    "X_train = pd.read_csv('/home/onyxia/work/aml_project/data/raw_data/data_fot_ML/final_train.csv')\n",
    "y_train = pd.read_csv('/home/onyxia/work/aml_project/data/raw_data/data_fot_ML/y_train.csv')['y']"
   ]
  },
  {
   "cell_type": "code",
   "execution_count": 5,
   "metadata": {},
   "outputs": [],
   "source": [
    "xtrain,xtest,ytrain,ytest=train_test_split(X_train,y_train, random_state=42, test_size=.20)"
   ]
  },
  {
   "cell_type": "code",
   "execution_count": 10,
   "metadata": {},
   "outputs": [],
   "source": [
    "xtrain.to_csv('/home/onyxia/work/aml_project/data/raw_data/data_fot_ML/final_train_train.csv', index=False)\n",
    "xtest.to_csv('/home/onyxia/work/aml_project/data/raw_data/data_fot_ML/final_train_test.csv', index=False)\n",
    "ytrain.to_csv('/home/onyxia/work/aml_project/data/raw_data/data_fot_ML/Y_train.csv', index=False)\n",
    "ytest.to_csv('/home/onyxia/work/aml_project/data/raw_data/data_fot_ML/Y_test.csv', index=False)"
   ]
  }
 ],
 "metadata": {
  "kernelspec": {
   "display_name": "base",
   "language": "python",
   "name": "python3"
  },
  "language_info": {
   "codemirror_mode": {
    "name": "ipython",
    "version": 3
   },
   "file_extension": ".py",
   "mimetype": "text/x-python",
   "name": "python",
   "nbconvert_exporter": "python",
   "pygments_lexer": "ipython3",
   "version": "3.10.13"
  }
 },
 "nbformat": 4,
 "nbformat_minor": 2
}
