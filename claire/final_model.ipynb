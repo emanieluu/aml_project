{
 "cells": [
  {
   "cell_type": "code",
   "execution_count": null,
   "metadata": {},
   "outputs": [],
   "source": [
    "# Machine learning\n",
    "from sklearn.ensemble import RandomForestRegressor\n",
    "from sklearn.model_selection import cross_validate\n",
    "from sklearn.metrics import mean_absolute_error, median_absolute_error, classification_report\n",
    "from sklearn.feature_selection import SelectKBest, chi2"
   ]
  },
  {
   "cell_type": "code",
   "execution_count": null,
   "metadata": {},
   "outputs": [],
   "source": [
    "x_train = pd.read_csv('/home/onyxia/work/aml_project/claire/final_train_train.csv')\n",
    "y_train = pd.read_csv('/home/onyxia/work/aml_project/claire/Y_train.csv')['y']\n",
    "x_test = pd.read_csv('/home/onyxia/work/aml_project/claire/final_train_test.csv')\n",
    "y_test = pd.read_csv('/home/onyxia/work/aml_project/claire/Y_test.csv')['y']\n"
   ]
  },
  {
   "cell_type": "code",
   "execution_count": null,
   "metadata": {},
   "outputs": [],
   "source": [
    "\n",
    "X_new = SelectKBest(chi2, k=20).fit_transform(X, y)\n",
    "X_new.shape"
   ]
  }
 ],
 "metadata": {
  "language_info": {
   "name": "python"
  }
 },
 "nbformat": 4,
 "nbformat_minor": 2
}
