{
 "cells": [
  {
   "cell_type": "code",
   "execution_count": null,
   "metadata": {},
   "outputs": [],
   "source": [
    "! pip install hyperopt\n",
    "! pip install scikit-learn-intelex"
   ]
  },
  {
   "cell_type": "code",
   "execution_count": 1,
   "metadata": {},
   "outputs": [
    {
     "name": "stderr",
     "output_type": "stream",
     "text": [
      "Intel(R) Extension for Scikit-learn* enabled (https://github.com/intel/scikit-learn-intelex)\n"
     ]
    },
    {
     "name": "stdout",
     "output_type": "stream",
     "text": [
      "0                                                      \n",
      "1                                                      \n",
      "2                                                      \n",
      "p6                                                     \n",
      "0                                                                                \n",
      "err                                                                              \n",
      "p2                                                                               \n",
      "Exception : Too much time, move on to next parameters                            \n",
      "1                                                                                \n",
      "err                                                                              \n",
      "p2                                                                               \n",
      "Exception : Too much time, move on to next parameters                            \n",
      "2                                                                                \n",
      "err                                                                              \n",
      "p2                                                                               \n",
      "Exception : Too much time, move on to next parameters                            \n",
      "p5                                                                               \n",
      "0                                                                                  \n",
      "1                                                                                  \n",
      "2                                                                                  \n",
      "p6                                                                                 \n",
      "0                                                                                  \n",
      "err                                                                              \n",
      "p2                                                                               \n",
      "Exception : Too much time, move on to next parameters                            \n",
      "1                                                                                \n",
      "err                                                                              \n",
      "p2                                                                               \n",
      "Exception : Too much time, move on to next parameters                            \n",
      "2                                                                                \n",
      "err                                                                              \n",
      "p2                                                                               \n",
      "Exception : Too much time, move on to next parameters                            \n",
      "p5                                                                               \n",
      "0                                                                                  \n",
      "err                                                                                \n",
      "p2                                                                                 \n",
      "Exception : Too much time, move on to next parameters                              \n",
      "1                                                                                  \n",
      "err                                                                                \n",
      "p2                                                                                 \n",
      "Exception : Too much time, move on to next parameters                              \n",
      "2                                                                                  \n",
      "err                                                                                \n",
      "p2                                                                                 \n",
      "Exception : Too much time, move on to next parameters                              \n",
      "p5                                                                                 \n",
      "0                                                                                  \n",
      "1                                                                                  \n",
      "2                                                                                  \n",
      "p6                                                                                 \n",
      "0                                                                                  \n",
      "err                                                                                \n",
      "p2                                                                                 \n",
      "Exception : Too much time, move on to next parameters                              \n",
      "1                                                                                  \n",
      "err                                                                                \n",
      "p2                                                                                 \n",
      "Exception : Too much time, move on to next parameters                              \n",
      "2                                                                                  \n",
      "err                                                                                \n",
      "p2                                                                                 \n",
      "Exception : Too much time, move on to next parameters                              \n",
      "p5                                                                                 \n",
      "0                                                                                  \n",
      "1                                                                                  \n",
      "2                                                                                  \n",
      "p6                                                                                 \n",
      "0                                                                                  \n",
      "1                                                                                  \n",
      "2                                                                                  \n",
      "p6                                                                                 \n",
      "0                                                                                  \n",
      "1                                                                                \n",
      "2                                                                                \n",
      "p6                                                                               \n",
      "0                                                                                 \n",
      "err                                                                               \n",
      "p2                                                                                \n",
      "Exception : Too much time, move on to next parameters                             \n",
      "1                                                                                 \n",
      "err                                                                               \n",
      "p2                                                                                \n",
      "Exception : Too much time, move on to next parameters                             \n",
      "2                                                                                 \n",
      "err                                                                               \n",
      "p2                                                                                \n",
      "Exception : Too much time, move on to next parameters                             \n",
      "p5                                                                                \n",
      "0                                                                                   \n",
      " 11%|█         | 11/100 [09:02<1:00:38, 40.88s/trial, best loss: 0.6854907042951489]"
     ]
    }
   ],
   "source": [
    "%run search_model.py"
   ]
  },
  {
   "cell_type": "code",
   "execution_count": 2,
   "metadata": {},
   "outputs": [
    {
     "name": "stdout",
     "output_type": "stream",
     "text": [
      "Best estimator: {'bootstrap': 0, 'feature_extractor': 2, 'k': 5, 'max_depth': 0, 'min_samples_leaf': 0, 'min_samples_split': 1, 'n_estimators': 2, 'preprocessor': 0, 'warm_startbool': 1}\n"
     ]
    }
   ],
   "source": [
    "print(\"Best estimator:\", best)"
   ]
  },
  {
   "cell_type": "code",
   "execution_count": 15,
   "metadata": {},
   "outputs": [
    {
     "data": {
      "text/plain": [
       "0.0"
      ]
     },
     "execution_count": 15,
     "metadata": {},
     "output_type": "execute_result"
    }
   ],
   "source": [
    "import numpy as np\n",
    "timeout = np.zeros(3)\n",
    "acc = np.zeros(3)\n",
    "#acc[timeout==0].mean()\n",
    "np.sum(timeout)"
   ]
  },
  {
   "cell_type": "markdown",
   "metadata": {},
   "source": [
    "1st try : max evals : 100, max runtime : 20, cv: 3"
   ]
  },
  {
   "cell_type": "markdown",
   "metadata": {},
   "source": [
    "Best estimator (0.6915) : \n",
    "feature_extractor= SelectKBest with k=400, \n",
    "n_estimators = 100, \n",
    "max_depth = None; \n",
    "min_samples_split=3, \n",
    "min_samples_leaf= 1, \n",
    "preprocessor= StandardScaler, \n",
    "warm_start = False, \n",
    "bootstrap = True "
   ]
  },
  {
   "cell_type": "code",
   "execution_count": 8,
   "metadata": {},
   "outputs": [],
   "source": [
    "from sklearn.preprocessing import StandardScaler\n",
    "from sklearn.decomposition import PCA\n",
    "\n",
    "X = final_train.values\n",
    "X_std = StandardScaler().fit_transform(X)\n",
    "pca = PCA(n_components=50,whiten=True)\n",
    "pca.fit(X_std)\n",
    "X_pca = pca.transform(X_std)"
   ]
  },
  {
   "cell_type": "code",
   "execution_count": 11,
   "metadata": {},
   "outputs": [
    {
     "name": "stdout",
     "output_type": "stream",
     "text": [
      "Mean MAE over 10 folds = 0.5595\n",
      "Mean RMSE over 10 folds = 0.8785\n"
     ]
    }
   ],
   "source": [
    "from sklearn.model_selection import cross_validate\n",
    "from sklearn.ensemble import RandomForestRegressor\n",
    "\n",
    "cv = cross_validate(estimator=RandomForestRegressor(n_estimators=300,\n",
    "                                                    max_depth = 20, \n",
    "                                                    min_samples_split=2, \n",
    "                                                    min_samples_leaf= 2), \n",
    "                    X=X_pca, \n",
    "                    y=y_train,\n",
    "                    cv=5, \n",
    "                    scoring=[\"neg_median_absolute_error\", \"neg_root_mean_squared_error\"],\n",
    "                    n_jobs=-1,\n",
    "                    verbose=0)\n",
    "\n",
    "print(f\"Mean MAE over 10 folds = {-cv['test_neg_median_absolute_error'].mean():.4f}\")\n",
    "print(f\"Mean RMSE over 10 folds = {-cv['test_neg_root_mean_squared_error'].mean():.4f}\")"
   ]
  },
  {
   "cell_type": "markdown",
   "metadata": {},
   "source": []
  }
 ],
 "metadata": {
  "kernelspec": {
   "display_name": "base",
   "language": "python",
   "name": "python3"
  },
  "language_info": {
   "codemirror_mode": {
    "name": "ipython",
    "version": 3
   },
   "file_extension": ".py",
   "mimetype": "text/x-python",
   "name": "python",
   "nbconvert_exporter": "python",
   "pygments_lexer": "ipython3",
   "version": "3.10.13"
  }
 },
 "nbformat": 4,
 "nbformat_minor": 2
}
