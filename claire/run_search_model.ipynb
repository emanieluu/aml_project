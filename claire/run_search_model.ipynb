{
 "cells": [
  {
   "cell_type": "code",
   "execution_count": null,
   "metadata": {},
   "outputs": [],
   "source": [
    "! pip install hyperopt\n",
    "! pip install scikit-learn-intelex"
   ]
  },
  {
   "cell_type": "code",
   "execution_count": 1,
   "metadata": {},
   "outputs": [
    {
     "name": "stderr",
     "output_type": "stream",
     "text": [
      "Intel(R) Extension for Scikit-learn* enabled (https://github.com/intel/scikit-learn-intelex)\n"
     ]
    },
    {
     "name": "stdout",
     "output_type": "stream",
     "text": [
      "Exception : Too much time, move on to next parameters  \n",
      "Exception : Too much time, move on to next parameters               \n",
      "Exception : Too much time, move on to next parameters               \n",
      "Exception : Too much time, move on to next parameters                            \n",
      "Exception : Too much time, move on to next parameters                            \n",
      "Exception : Too much time, move on to next parameters                                \n",
      "Exception : Too much time, move on to next parameters                                \n",
      "Exception : Too much time, move on to next parameters                                \n",
      "Exception : Too much time, move on to next parameters                                \n",
      "Exception : Too much time, move on to next parameters                               \n",
      "Exception : Too much time, move on to next parameters                               \n",
      "Exception : Too much time, move on to next parameters                             \n",
      "Exception : Too much time, move on to next parameters                             \n",
      "Exception : Too much time, move on to next parameters                            \n",
      "Exception : Too much time, move on to next parameters                            \n",
      "Exception : Too much time, move on to next parameters                            \n",
      "Exception : Too much time, move on to next parameters                            \n",
      "Exception : Too much time, move on to next parameters                            \n",
      "Exception : Too much time, move on to next parameters                            \n",
      "Exception : Too much time, move on to next parameters                            \n",
      "Exception : Too much time, move on to next parameters                            \n",
      "Exception : Too much time, move on to next parameters                            \n",
      "Exception : Too much time, move on to next parameters                            \n",
      "Exception : Too much time, move on to next parameters                            \n",
      "Exception : Too much time, move on to next parameters                            \n",
      "Exception : Too much time, move on to next parameters                            \n",
      "Exception : Too much time, move on to next parameters                            \n",
      "Exception : Too much time, move on to next parameters                            \n",
      "Exception : Too much time, move on to next parameters                            \n",
      "100%|██████████| 100/100 [1:00:14<00:00, 36.15s/trial, best loss: 0.691556704574553]\n"
     ]
    },
    {
     "ename": "NameError",
     "evalue": "name 'count' is not defined",
     "output_type": "error",
     "traceback": [
      "\u001b[0;31m---------------------------------------------------------------------------\u001b[0m",
      "\u001b[0;31mNameError\u001b[0m                                 Traceback (most recent call last)",
      "File \u001b[0;32m~/work/aml_project/claire/search_model.py:181\u001b[0m\n\u001b[1;32m    171\u001b[0m trials \u001b[39m=\u001b[39m Trials()\n\u001b[1;32m    174\u001b[0m best \u001b[39m=\u001b[39m fmin(\n\u001b[1;32m    175\u001b[0m     fn\u001b[39m=\u001b[39mpartial(model_from_param, X\u001b[39m=\u001b[39mfinal_train, y\u001b[39m=\u001b[39my_train),\n\u001b[1;32m    176\u001b[0m     space\u001b[39m=\u001b[39mspace,\n\u001b[1;32m    177\u001b[0m     algo\u001b[39m=\u001b[39mtpe\u001b[39m.\u001b[39msuggest,\n\u001b[1;32m    178\u001b[0m     max_evals\u001b[39m=\u001b[39m\u001b[39m100\u001b[39m,\n\u001b[1;32m    179\u001b[0m     trials\u001b[39m=\u001b[39mtrials)\n\u001b[0;32m--> 181\u001b[0m \u001b[39mprint\u001b[39m(count, \u001b[39m\"\u001b[39m\u001b[39m sets of parameters avoids because of too long run time\u001b[39m\u001b[39m\"\u001b[39m)\n\u001b[1;32m    182\u001b[0m \u001b[39mprint\u001b[39m(\u001b[39m\"\u001b[39m\u001b[39mBest estimator:\u001b[39m\u001b[39m\"\u001b[39m, best)\n\u001b[1;32m    184\u001b[0m profiler\u001b[39m.\u001b[39mdisable()\n",
      "\u001b[0;31mNameError\u001b[0m: name 'count' is not defined"
     ]
    }
   ],
   "source": [
    "%run search_model.py"
   ]
  },
  {
   "cell_type": "code",
   "execution_count": 2,
   "metadata": {},
   "outputs": [
    {
     "name": "stdout",
     "output_type": "stream",
     "text": [
      "Best estimator: {'bootstrap': 0, 'feature_extractor': 2, 'k': 5, 'max_depth': 0, 'min_samples_leaf': 0, 'min_samples_split': 1, 'n_estimators': 2, 'preprocessor': 0, 'warm_startbool': 1}\n"
     ]
    }
   ],
   "source": [
    "print(\"Best estimator:\", best)"
   ]
  },
  {
   "cell_type": "markdown",
   "metadata": {},
   "source": [
    "1st try : max evals : 100, max runtime : 20, cv: 3"
   ]
  },
  {
   "cell_type": "markdown",
   "metadata": {},
   "source": [
    "Best estimator (0.6915) : \n",
    "feature_extractor= SelectKBest with k=400, \n",
    "n_estimators = 100, \n",
    "max_depth = None; \n",
    "min_samples_split=3, \n",
    "min_samples_leaf= 1, \n",
    "preprocessor= StandardScaler, \n",
    "warm_start = False, \n",
    "bootstrap = True "
   ]
  },
  {
   "cell_type": "code",
   "execution_count": 8,
   "metadata": {},
   "outputs": [],
   "source": [
    "from sklearn.preprocessing import StandardScaler\n",
    "from sklearn.decomposition import PCA\n",
    "\n",
    "X = final_train.values\n",
    "X_std = StandardScaler().fit_transform(X)\n",
    "pca = PCA(n_components=50,whiten=True)\n",
    "pca.fit(X_std)\n",
    "X_pca = pca.transform(X_std)"
   ]
  },
  {
   "cell_type": "code",
   "execution_count": 11,
   "metadata": {},
   "outputs": [
    {
     "name": "stdout",
     "output_type": "stream",
     "text": [
      "Mean MAE over 10 folds = 0.5595\n",
      "Mean RMSE over 10 folds = 0.8785\n"
     ]
    }
   ],
   "source": [
    "from sklearn.model_selection import cross_validate\n",
    "from sklearn.ensemble import RandomForestRegressor\n",
    "\n",
    "cv = cross_validate(estimator=RandomForestRegressor(n_estimators=300,\n",
    "                                                    max_depth = 20, \n",
    "                                                    min_samples_split=2, \n",
    "                                                    min_samples_leaf= 2), \n",
    "                    X=X_pca, \n",
    "                    y=y_train,\n",
    "                    cv=5, \n",
    "                    scoring=[\"neg_median_absolute_error\", \"neg_root_mean_squared_error\"],\n",
    "                    n_jobs=-1,\n",
    "                    verbose=0)\n",
    "\n",
    "print(f\"Mean MAE over 10 folds = {-cv['test_neg_median_absolute_error'].mean():.4f}\")\n",
    "print(f\"Mean RMSE over 10 folds = {-cv['test_neg_root_mean_squared_error'].mean():.4f}\")"
   ]
  },
  {
   "cell_type": "markdown",
   "metadata": {},
   "source": []
  }
 ],
 "metadata": {
  "kernelspec": {
   "display_name": "base",
   "language": "python",
   "name": "python3"
  },
  "language_info": {
   "codemirror_mode": {
    "name": "ipython",
    "version": 3
   },
   "file_extension": ".py",
   "mimetype": "text/x-python",
   "name": "python",
   "nbconvert_exporter": "python",
   "pygments_lexer": "ipython3",
   "version": "3.10.13"
  }
 },
 "nbformat": 4,
 "nbformat_minor": 2
}
