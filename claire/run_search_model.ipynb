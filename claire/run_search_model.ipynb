{
 "cells": [
  {
   "cell_type": "code",
   "execution_count": null,
   "metadata": {},
   "outputs": [],
   "source": [
    "! pip install hyperopt\n",
    "! pip install scikit-learn-intelex"
   ]
  },
  {
   "cell_type": "code",
   "execution_count": 1,
   "metadata": {},
   "outputs": [
    {
     "name": "stderr",
     "output_type": "stream",
     "text": [
      "Intel(R) Extension for Scikit-learn* enabled (https://github.com/intel/scikit-learn-intelex)\n"
     ]
    },
    {
     "name": "stdout",
     "output_type": "stream",
     "text": [
      "Params testing:                                        \n",
      "{'bootstrap': False, 'feature_extractor': {'k': 400, 'type': 'SelectKBest'}, 'max_depth': 30, 'max_features': 'log2', 'min_samples_leaf': 6, 'min_samples_split': 12, 'n_estimators': 100, 'preprocessor': 'StandardScaler', 'warm_start': True}\n",
      "Params testing:                                                                  \n",
      "{'bootstrap': False, 'feature_extractor': {'n_components': 200, 'type': 'pca', 'whiten': False}, 'max_depth': 30, 'max_features': 'sqrt', 'min_samples_leaf': 6, 'min_samples_split': 3, 'n_estimators': 100, 'preprocessor': 'Normalizer', 'warm_start': False}\n",
      "Exception : Too much time, move on to next cross validate                        \n",
      "Exception : Too much time, move on to next cross validate                        \n",
      "Exception : Too much time, move on to next cross validate                        \n",
      "Params testing:                                                                    \n",
      "{'bootstrap': False, 'feature_extractor': {'n_components': 60, 'type': 'pca', 'whiten': True}, 'max_depth': 20, 'max_features': 'sqrt', 'min_samples_leaf': 6, 'min_samples_split': 3, 'n_estimators': 50, 'preprocessor': 'RobustScaler', 'warm_start': True}\n",
      "Params testing:                                                                    \n",
      "{'bootstrap': False, 'feature_extractor': {'k': 150, 'type': 'SelectKBest'}, 'max_depth': None, 'max_features': 'sqrt', 'min_samples_leaf': 3, 'min_samples_split': 2, 'n_estimators': 100, 'preprocessor': 'MaxAbsScaler', 'warm_start': True}\n",
      "Params testing:                                                                    \n",
      "{'bootstrap': False, 'feature_extractor': {'n_components': 10, 'type': 'pca', 'whiten': False}, 'max_depth': None, 'max_features': 'log2', 'min_samples_leaf': 6, 'min_samples_split': 7, 'n_estimators': 400, 'preprocessor': 'StandardScaler', 'warm_start': False}\n",
      "Params testing:                                                                   \n",
      "{'bootstrap': True, 'feature_extractor': {'k': 300, 'type': 'SelectKBest'}, 'max_depth': None, 'max_features': 'sqrt', 'min_samples_leaf': 1, 'min_samples_split': 3, 'n_estimators': 100, 'preprocessor': 'RobustScaler', 'warm_start': False}\n",
      "Params testing:                                                                  \n",
      "{'bootstrap': True, 'feature_extractor': {'k': 150, 'type': 'SelectKBest'}, 'max_depth': None, 'max_features': 'log2', 'min_samples_leaf': 6, 'min_samples_split': 2, 'n_estimators': 50, 'preprocessor': 'RobustScaler', 'warm_start': False}\n",
      "Params testing:                                                                  \n",
      "{'bootstrap': True, 'feature_extractor': {'n_components': 10, 'type': 'pca', 'whiten': True}, 'max_depth': 20, 'max_features': 'sqrt', 'min_samples_leaf': 6, 'min_samples_split': 3, 'n_estimators': 400, 'preprocessor': 'RobustScaler', 'warm_start': True}\n",
      "Exception : Too much time, move on to next cross validate                        \n",
      "Exception : Too much time, move on to next cross validate                        \n",
      "Params testing:                                                                  \n",
      "{'bootstrap': True, 'feature_extractor': {'n_features_to_select': 200, 'step': 10, 'type': 'RFE'}, 'max_depth': 30, 'max_features': 'log2', 'min_samples_leaf': 10, 'min_samples_split': 12, 'n_estimators': 50, 'preprocessor': 'StandardScaler', 'warm_start': True}\n",
      "Exception : Too much time, move on to next cross validate                        \n",
      "Exception : Too much time, move on to next cross validate                        \n",
      "Exception : Too much time, move on to next cross validate                        \n",
      "Params testing:                                                                    \n",
      "{'bootstrap': False, 'feature_extractor': {'n_components': 75, 'type': 'pca', 'whiten': True}, 'max_depth': 30, 'max_features': 'sqrt', 'min_samples_leaf': 6, 'min_samples_split': 7, 'n_estimators': 300, 'preprocessor': 'RobustScaler', 'warm_start': True}\n",
      "Exception : Too much time, move on to next cross validate                          \n",
      "Exception : Too much time, move on to next cross validate                          \n",
      "Exception : Too much time, move on to next cross validate                          \n",
      "Params testing:                                                                     \n",
      "{'bootstrap': False, 'feature_extractor': {'n_components': 50, 'type': 'pca', 'whiten': True}, 'max_depth': 20, 'max_features': 'sqrt', 'min_samples_leaf': 1, 'min_samples_split': 3, 'n_estimators': 100, 'preprocessor': 'MaxAbsScaler', 'warm_start': False}\n",
      "Params testing:                                                                     \n",
      "{'bootstrap': True, 'feature_extractor': {'k': 150, 'type': 'SelectKBest'}, 'max_depth': 10, 'max_features': 'log2', 'min_samples_leaf': 3, 'min_samples_split': 7, 'n_estimators': 50, 'preprocessor': 'Normalizer', 'warm_start': False}\n",
      "Params testing:                                                                     \n",
      "{'bootstrap': False, 'feature_extractor': {'k': 400, 'type': 'SelectKBest'}, 'max_depth': 20, 'max_features': 'sqrt', 'min_samples_leaf': 1, 'min_samples_split': 3, 'n_estimators': 100, 'preprocessor': 'MaxAbsScaler', 'warm_start': False}\n",
      "Params testing:                                                                   \n",
      "{'bootstrap': False, 'feature_extractor': {'n_features_to_select': 200, 'step': 10, 'type': 'RFE'}, 'max_depth': 30, 'max_features': 'log2', 'min_samples_leaf': 1, 'min_samples_split': 2, 'n_estimators': 100, 'preprocessor': 'Normalizer', 'warm_start': True}\n",
      "Exception : Too much time, move on to next cross validate                        \n",
      "Exception : Too much time, move on to next cross validate                        \n",
      "Exception : Too much time, move on to next cross validate                        \n",
      "Params testing:                                                                  \n",
      "{'bootstrap': False, 'feature_extractor': {'k': 400, 'type': 'SelectKBest'}, 'max_depth': 10, 'max_features': 'log2', 'min_samples_leaf': 6, 'min_samples_split': 2, 'n_estimators': 300, 'preprocessor': 'Normalizer', 'warm_start': True}\n",
      "Params testing:                                                                  \n",
      "{'bootstrap': False, 'feature_extractor': {'k': 400, 'type': 'SelectKBest'}, 'max_depth': 20, 'max_features': 'log2', 'min_samples_leaf': 3, 'min_samples_split': 3, 'n_estimators': 400, 'preprocessor': 'StandardScaler', 'warm_start': True}\n",
      "Exception : Too much time, move on to next cross validate                        \n",
      "Params testing:                                                                  \n",
      "{'bootstrap': False, 'feature_extractor': {'n_features_to_select': 400, 'step': 10, 'type': 'RFE'}, 'max_depth': None, 'max_features': 'sqrt', 'min_samples_leaf': 6, 'min_samples_split': 2, 'n_estimators': 300, 'preprocessor': 'MaxAbsScaler', 'warm_start': True}\n",
      "Exception : Too much time, move on to next cross validate                        \n",
      "Exception : Too much time, move on to next cross validate                        \n",
      "Exception : Too much time, move on to next cross validate                        \n",
      "Params testing:                                                                    \n",
      "{'bootstrap': False, 'feature_extractor': {'n_features_to_select': 400, 'step': 10, 'type': 'RFE'}, 'max_depth': 10, 'max_features': 'log2', 'min_samples_leaf': 6, 'min_samples_split': 12, 'n_estimators': 400, 'preprocessor': 'Normalizer', 'warm_start': True}\n",
      "Exception : Too much time, move on to next cross validate                          \n",
      "Exception : Too much time, move on to next cross validate                          \n",
      "Exception : Too much time, move on to next cross validate                          \n",
      "Params testing:                                                                    \n",
      "{'bootstrap': True, 'feature_extractor': {'n_features_to_select': 400, 'step': 10, 'type': 'RFE'}, 'max_depth': 10, 'max_features': 'log2', 'min_samples_leaf': 10, 'min_samples_split': 3, 'n_estimators': 200, 'preprocessor': 'MaxAbsScaler', 'warm_start': True}\n",
      "Exception : Too much time, move on to next cross validate                          \n",
      "Exception : Too much time, move on to next cross validate                          \n",
      "Exception : Too much time, move on to next cross validate                          \n",
      "Params testing:                                                                    \n",
      "{'bootstrap': True, 'feature_extractor': {'k': 10, 'type': 'SelectKBest'}, 'max_depth': 30, 'max_features': 'sqrt', 'min_samples_leaf': 10, 'min_samples_split': 12, 'n_estimators': 50, 'preprocessor': 'Normalizer', 'warm_start': True}\n",
      "Params testing:                                                                    \n",
      "{'bootstrap': True, 'feature_extractor': {'k': 300, 'type': 'SelectKBest'}, 'max_depth': 20, 'max_features': 'sqrt', 'min_samples_leaf': 1, 'min_samples_split': 3, 'n_estimators': 100, 'preprocessor': 'MaxAbsScaler', 'warm_start': False}\n",
      "Params testing:                                                                  \n",
      "{'bootstrap': True, 'feature_extractor': {'k': 75, 'type': 'SelectKBest'}, 'max_depth': None, 'max_features': 'sqrt', 'min_samples_leaf': 1, 'min_samples_split': 3, 'n_estimators': 200, 'preprocessor': 'RobustScaler', 'warm_start': False}\n",
      "Params testing:                                                                  \n",
      "{'bootstrap': True, 'feature_extractor': {'k': 200, 'type': 'SelectKBest'}, 'max_depth': None, 'max_features': 'sqrt', 'min_samples_leaf': 1, 'min_samples_split': 3, 'n_estimators': 100, 'preprocessor': 'RobustScaler', 'warm_start': False}\n",
      "Params testing:                                                                  \n",
      "{'bootstrap': True, 'feature_extractor': {'k': 300, 'type': 'SelectKBest'}, 'max_depth': 20, 'max_features': 'sqrt', 'min_samples_leaf': 1, 'min_samples_split': 3, 'n_estimators': 100, 'preprocessor': 'MaxAbsScaler', 'warm_start': False}\n",
      "Params testing:                                                                  \n",
      "{'bootstrap': True, 'feature_extractor': {'k': 300, 'type': 'SelectKBest'}, 'max_depth': None, 'max_features': 'sqrt', 'min_samples_leaf': 1, 'min_samples_split': 3, 'n_estimators': 200, 'preprocessor': 'MaxAbsScaler', 'warm_start': False}\n",
      "Params testing:                                                                  \n",
      "{'bootstrap': True, 'feature_extractor': {'k': 200, 'type': 'SelectKBest'}, 'max_depth': 20, 'max_features': 'sqrt', 'min_samples_leaf': 1, 'min_samples_split': 3, 'n_estimators': 200, 'preprocessor': 'MaxAbsScaler', 'warm_start': False}\n",
      "Params testing:                                                                  \n",
      "{'bootstrap': False, 'feature_extractor': {'k': 75, 'type': 'SelectKBest'}, 'max_depth': None, 'max_features': 'sqrt', 'min_samples_leaf': 1, 'min_samples_split': 7, 'n_estimators': 200, 'preprocessor': 'MaxAbsScaler', 'warm_start': False}\n",
      "Params testing:                                                                  \n",
      "{'bootstrap': True, 'feature_extractor': {'k': 400, 'type': 'SelectKBest'}, 'max_depth': 20, 'max_features': 'sqrt', 'min_samples_leaf': 1, 'min_samples_split': 3, 'n_estimators': 200, 'preprocessor': 'MaxAbsScaler', 'warm_start': False}\n",
      "Params testing:                                                                  \n",
      "{'bootstrap': False, 'feature_extractor': {'k': 300, 'type': 'SelectKBest'}, 'max_depth': 20, 'max_features': 'sqrt', 'min_samples_leaf': 1, 'min_samples_split': 12, 'n_estimators': 200, 'preprocessor': 'MaxAbsScaler', 'warm_start': False}\n",
      "Params testing:                                                                  \n",
      "{'bootstrap': False, 'feature_extractor': {'k': 10, 'type': 'SelectKBest'}, 'max_depth': 20, 'max_features': 'sqrt', 'min_samples_leaf': 1, 'min_samples_split': 12, 'n_estimators': 200, 'preprocessor': 'MaxAbsScaler', 'warm_start': False}\n",
      "Params testing:                                                                  \n",
      "{'bootstrap': False, 'feature_extractor': {'k': 400, 'type': 'SelectKBest'}, 'max_depth': 20, 'max_features': 'sqrt', 'min_samples_leaf': 3, 'min_samples_split': 12, 'n_estimators': 300, 'preprocessor': 'MaxAbsScaler', 'warm_start': False}\n",
      "Params testing:                                                                  \n",
      "{'bootstrap': False, 'feature_extractor': {'n_features_to_select': 300, 'step': 10, 'type': 'RFE'}, 'max_depth': 20, 'max_features': 'sqrt', 'min_samples_leaf': 10, 'min_samples_split': 12, 'n_estimators': 200, 'preprocessor': 'StandardScaler', 'warm_start': False}\n",
      "Exception : Too much time, move on to next cross validate                        \n",
      "Exception : Too much time, move on to next cross validate                        \n",
      "Exception : Too much time, move on to next cross validate                        \n",
      "Params testing:                                                                    \n",
      "{'bootstrap': False, 'feature_extractor': {'n_components': 150, 'type': 'pca', 'whiten': False}, 'max_depth': 20, 'max_features': 'sqrt', 'min_samples_leaf': 1, 'min_samples_split': 12, 'n_estimators': 100, 'preprocessor': 'MaxAbsScaler', 'warm_start': False}\n",
      "Params testing:                                                                    \n",
      "{'bootstrap': False, 'feature_extractor': {'k': 300, 'type': 'SelectKBest'}, 'max_depth': 20, 'max_features': 'sqrt', 'min_samples_leaf': 3, 'min_samples_split': 12, 'n_estimators': 100, 'preprocessor': 'MaxAbsScaler', 'warm_start': False}\n",
      "Params testing:                                                                    \n",
      "{'bootstrap': False, 'feature_extractor': {'k': 400, 'type': 'SelectKBest'}, 'max_depth': 20, 'max_features': 'sqrt', 'min_samples_leaf': 1, 'min_samples_split': 12, 'n_estimators': 200, 'preprocessor': 'StandardScaler', 'warm_start': False}\n",
      "Params testing:                                                                  \n",
      "{'bootstrap': False, 'feature_extractor': {'n_components': 100, 'type': 'pca', 'whiten': False}, 'max_depth': 20, 'max_features': 'sqrt', 'min_samples_leaf': 1, 'min_samples_split': 7, 'n_estimators': 400, 'preprocessor': 'StandardScaler', 'warm_start': False}\n",
      "Params testing:                                                                  \n",
      "{'bootstrap': False, 'feature_extractor': {'k': 400, 'type': 'SelectKBest'}, 'max_depth': 10, 'max_features': 'sqrt', 'min_samples_leaf': 10, 'min_samples_split': 12, 'n_estimators': 100, 'preprocessor': 'StandardScaler', 'warm_start': False}\n",
      "Params testing:                                                                  \n",
      "{'bootstrap': False, 'feature_extractor': {'k': 400, 'type': 'SelectKBest'}, 'max_depth': 20, 'max_features': 'sqrt', 'min_samples_leaf': 1, 'min_samples_split': 2, 'n_estimators': 50, 'preprocessor': 'StandardScaler', 'warm_start': False}\n",
      "Params testing:                                                                  \n",
      "{'bootstrap': False, 'feature_extractor': {'n_components': 75, 'type': 'pca', 'whiten': False}, 'max_depth': 30, 'max_features': 'sqrt', 'min_samples_leaf': 3, 'min_samples_split': 2, 'n_estimators': 50, 'preprocessor': 'StandardScaler', 'warm_start': False}\n",
      "Params testing:                                                                  \n",
      "{'bootstrap': False, 'feature_extractor': {'n_features_to_select': 300, 'step': 10, 'type': 'RFE'}, 'max_depth': 20, 'max_features': 'sqrt', 'min_samples_leaf': 1, 'min_samples_split': 2, 'n_estimators': 50, 'preprocessor': 'StandardScaler', 'warm_start': False}\n",
      "Exception : Too much time, move on to next cross validate                        \n",
      "Exception : Too much time, move on to next cross validate                        \n",
      "Exception : Too much time, move on to next cross validate                        \n",
      "Params testing:                                                                    \n",
      "{'bootstrap': False, 'feature_extractor': {'k': 400, 'type': 'SelectKBest'}, 'max_depth': 20, 'max_features': 'sqrt', 'min_samples_leaf': 10, 'min_samples_split': 2, 'n_estimators': 50, 'preprocessor': 'StandardScaler', 'warm_start': False}\n",
      "Params testing:                                                                    \n",
      "{'bootstrap': False, 'feature_extractor': {'n_components': 50, 'type': 'pca', 'whiten': True}, 'max_depth': 30, 'max_features': 'log2', 'min_samples_leaf': 1, 'min_samples_split': 2, 'n_estimators': 50, 'preprocessor': 'StandardScaler', 'warm_start': False}\n",
      "Params testing:                                                                  \n",
      "{'bootstrap': False, 'feature_extractor': {'k': 400, 'type': 'SelectKBest'}, 'max_depth': 10, 'max_features': 'sqrt', 'min_samples_leaf': 1, 'min_samples_split': 2, 'n_estimators': 50, 'preprocessor': 'RobustScaler', 'warm_start': False}\n",
      "Params testing:                                                                  \n",
      "{'bootstrap': False, 'feature_extractor': {'k': 10, 'type': 'SelectKBest'}, 'max_depth': 20, 'max_features': 'log2', 'min_samples_leaf': 3, 'min_samples_split': 7, 'n_estimators': 50, 'preprocessor': 'StandardScaler', 'warm_start': False}\n",
      "Params testing:                                                                  \n",
      "{'bootstrap': False, 'feature_extractor': {'n_components': 200, 'type': 'pca', 'whiten': True}, 'max_depth': 30, 'max_features': 'sqrt', 'min_samples_leaf': 6, 'min_samples_split': 2, 'n_estimators': 300, 'preprocessor': 'Normalizer', 'warm_start': False}\n",
      "Exception : Too much time, move on to next cross validate                        \n",
      "Exception : Too much time, move on to next cross validate                        \n",
      "Exception : Too much time, move on to next cross validate                        \n",
      "Params testing:                                                                  \n",
      "{'bootstrap': False, 'feature_extractor': {'n_features_to_select': 300, 'step': 10, 'type': 'RFE'}, 'max_depth': 20, 'max_features': 'log2', 'min_samples_leaf': 1, 'min_samples_split': 2, 'n_estimators': 100, 'preprocessor': 'RobustScaler', 'warm_start': True}\n",
      "Exception : Too much time, move on to next cross validate                        \n",
      " 45%|████▌     | 45/100 [1:23:00<34:17, 37.41s/trial, best loss: 0.663929410624409]"
     ]
    }
   ],
   "source": [
    "%run search_model.py"
   ]
  },
  {
   "cell_type": "markdown",
   "metadata": {},
   "source": [
    "1st try : max evals : 100, max runtime : 20, cv: 3"
   ]
  },
  {
   "cell_type": "markdown",
   "metadata": {},
   "source": [
    "Best estimator (0.6915) : \n",
    "feature_extractor= SelectKBest with k=400, \n",
    "n_estimators = 100, \n",
    "max_depth = None; \n",
    "min_samples_split=3, \n",
    "min_samples_leaf= 1, \n",
    "preprocessor= StandardScaler, \n",
    "warm_start = False, \n",
    "bootstrap = True "
   ]
  },
  {
   "cell_type": "code",
   "execution_count": 8,
   "metadata": {},
   "outputs": [],
   "source": [
    "from sklearn.preprocessing import StandardScaler\n",
    "from sklearn.decomposition import PCA\n",
    "X = final_train.values\n",
    "X_std = StandardScaler().fit_transform(X)\n",
    "pca = PCA(n_components=50,whiten=True)\n",
    "pca.fit(X_std)\n",
    "X_pca = pca.transform(X_std)"
   ]
  },
  {
   "cell_type": "code",
   "execution_count": 11,
   "metadata": {},
   "outputs": [
    {
     "name": "stdout",
     "output_type": "stream",
     "text": [
      "Mean MAE over 10 folds = 0.5595\n",
      "Mean RMSE over 10 folds = 0.8785\n"
     ]
    }
   ],
   "source": [
    "from sklearn.model_selection import cross_validate\n",
    "from sklearn.ensemble import RandomForestRegressor\n",
    "\n",
    "cv = cross_validate(estimator=RandomForestRegressor(n_estimators=300,\n",
    "                                                    max_depth = 20, \n",
    "                                                    min_samples_split=2, \n",
    "                                                    min_samples_leaf= 2), \n",
    "                    X=X_pca, \n",
    "                    y=y_train,\n",
    "                    cv=5, \n",
    "                    scoring=[\"neg_median_absolute_error\", \"neg_root_mean_squared_error\"],\n",
    "                    n_jobs=-1,\n",
    "                    verbose=0)\n",
    "\n",
    "print(f\"Mean MAE over 10 folds = {-cv['test_neg_median_absolute_error'].mean():.4f}\")\n",
    "print(f\"Mean RMSE over 10 folds = {-cv['test_neg_root_mean_squared_error'].mean():.4f}\")"
   ]
  },
  {
   "cell_type": "code",
   "execution_count": null,
   "metadata": {},
   "outputs": [],
   "source": [
    "    @timeout_decorator.timeout(20, timeout_exception=StopIteration)\n",
    "    def cross_val(model, X, y, cv):\n",
    "        y_cv_predict = cross_val_predict(model, X, y, cv=cv, n_jobs=None)\n",
    "        acc = mean_absolute_error(y, y_cv_predict)\n",
    "        return(acc)\n",
    "\n",
    "    n_repeats = 3\n",
    "    acc = np.zeros(n_repeats)\n",
    "    timeout = np.zeros(n_repeats)\n",
    "    for i in range(n_repeats):\n",
    "        print(i)\n",
    "        try:\n",
    "            acc[i]=cross_val(model, X, y, 5)\n",
    "\n",
    "        except RuntimeError as e:\n",
    "            print(\"err\")\n",
    "            if \"generator raised StopIteration\" in str(e):\n",
    "                print(\"p2\")\n",
    "                timeout[i]=1\n",
    "                print(f\"Exception : Too much time, move on to next cross validate\")\n",
    "            else:\n",
    "                raise\n",
    "        \n",
    "    if np.sum(timeout)==n_repeats:\n",
    "        print(\"p5\")\n",
    "        mae=300\n",
    "    else:\n",
    "        print(\"p6\")\n",
    "        mae=acc[timeout==0].mean()"
   ]
  },
  {
   "cell_type": "markdown",
   "metadata": {},
   "source": []
  }
 ],
 "metadata": {
  "kernelspec": {
   "display_name": "base",
   "language": "python",
   "name": "python3"
  },
  "language_info": {
   "codemirror_mode": {
    "name": "ipython",
    "version": 3
   },
   "file_extension": ".py",
   "mimetype": "text/x-python",
   "name": "python",
   "nbconvert_exporter": "python",
   "pygments_lexer": "ipython3",
   "version": "3.10.13"
  }
 },
 "nbformat": 4,
 "nbformat_minor": 2
}
